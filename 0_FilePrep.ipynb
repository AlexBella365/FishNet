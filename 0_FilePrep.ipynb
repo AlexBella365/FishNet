{
 "cells": [
  {
   "cell_type": "code",
   "execution_count": 1,
   "metadata": {
    "collapsed": true
   },
   "outputs": [],
   "source": [
    "import os\n",
    "import glob\n",
    "import random\n",
    "import numpy as np"
   ]
  },
  {
   "cell_type": "code",
   "execution_count": 2,
   "metadata": {
    "collapsed": true
   },
   "outputs": [],
   "source": [
    "ROOT = os.path.join(os.getcwd(),'img')\n",
    "img_folders = {\n",
    "    'clown':os.path.join(ROOT,'clown'),\n",
    "    'reef':os.path.join(ROOT,'reef')\n",
    "}"
   ]
  },
  {
   "cell_type": "markdown",
   "metadata": {},
   "source": [
    "# Image cleaning"
   ]
  },
  {
   "cell_type": "code",
   "execution_count": 3,
   "metadata": {
    "collapsed": true
   },
   "outputs": [],
   "source": [
    "import string\n",
    "import random\n",
    "\n",
    "def random_string(min_char=8,max_char=None):\n",
    "    if max_char is None:\n",
    "        max_char = min_char\n",
    "    allchar = string.ascii_letters + string.digits\n",
    "    return \"\".join(random.choice(allchar) for x in range(random.randint(min_char, max_char)))"
   ]
  },
  {
   "cell_type": "code",
   "execution_count": 4,
   "metadata": {},
   "outputs": [
    {
     "data": {
      "text/plain": [
       "'fee60c41a26a4e13b1f6ac80df835909'"
      ]
     },
     "execution_count": 4,
     "metadata": {},
     "output_type": "execute_result"
    }
   ],
   "source": [
    "import uuid\n",
    "uuid.uuid4().hex"
   ]
  },
  {
   "cell_type": "code",
   "execution_count": 17,
   "metadata": {
    "collapsed": true
   },
   "outputs": [],
   "source": [
    "import os\n",
    "import time\n",
    "\n",
    "def rename(folder,new_name,start=1,prefix='',suffix=''):\n",
    "    temp = random_string()\n",
    "    # Use temp name first to avoid overwriting\n",
    "    for k,img in enumerate(os.listdir(folder),start):\n",
    "        os.rename(\n",
    "            '{f}/{i}'.format(f=folder,i=img),\n",
    "            '{f}/{t}{k:03d}'.format(f=folder,t=temp,k=k)\n",
    "        )\n",
    "        time.sleep(0.01)\n",
    "\n",
    "    for k,img in enumerate(os.listdir(folder),start):\n",
    "        os.rename(\n",
    "            '{f}/{i}'.format(f=folder,i=img),\n",
    "            '{f}/{p}{n}{k:03d}{s}'.format(f=folder,p=prefix,n=new_name,k=k,s=suffix)\n",
    "        )\n",
    "        time.sleep(0.01)"
   ]
  },
  {
   "cell_type": "code",
   "execution_count": 25,
   "metadata": {
    "collapsed": true
   },
   "outputs": [],
   "source": [
    "rename(img_folders['clown'],'clown',suffix='.png')"
   ]
  },
  {
   "cell_type": "code",
   "execution_count": 7,
   "metadata": {
    "collapsed": true
   },
   "outputs": [],
   "source": [
    "rename(img_folders['reef'],'reef',suffix='.png')"
   ]
  },
  {
   "cell_type": "markdown",
   "metadata": {},
   "source": [
    "# Resize image"
   ]
  },
  {
   "cell_type": "code",
   "execution_count": 21,
   "metadata": {
    "collapsed": true
   },
   "outputs": [],
   "source": [
    "from PIL import Image"
   ]
  },
  {
   "cell_type": "code",
   "execution_count": 22,
   "metadata": {
    "collapsed": true
   },
   "outputs": [],
   "source": [
    "def custom_resize(img,max_size=600):\n",
    "    (width, height) = img.size\n",
    "    RATIO = min(min(max_size/width,1),min(max_size/height,1))\n",
    "    new_size = (int(width*RATIO),int(height*RATIO))\n",
    "    img = img.resize(new_size)\n",
    "    return img"
   ]
  },
  {
   "cell_type": "code",
   "execution_count": 23,
   "metadata": {
    "collapsed": true
   },
   "outputs": [],
   "source": [
    "def resize(img_path,output_path=None,max_size=600):\n",
    "    if output_path is None:\n",
    "        output_path = img_path\n",
    "    original_image = Image.open(img_path)\n",
    "    new_image = custom_resize(original_image,max_size)\n",
    "    new_image.save(output_path)"
   ]
  },
  {
   "cell_type": "code",
   "execution_count": 24,
   "metadata": {},
   "outputs": [
    {
     "name": "stdout",
     "output_type": "stream",
     "text": [
      "clown059.png\n",
      "clown037.png\n",
      "clown130.png\n"
     ]
    }
   ],
   "source": [
    "path = img_folders['clown']\n",
    "for img in os.listdir(path):\n",
    "    try:\n",
    "        resize(path+'/'+img)\n",
    "    except:\n",
    "        print(img)"
   ]
  },
  {
   "cell_type": "code",
   "execution_count": null,
   "metadata": {},
   "outputs": [
    {
     "name": "stdout",
     "output_type": "stream",
     "text": [
      "reef141.png\n"
     ]
    }
   ],
   "source": [
    "path = img_folders['reef']\n",
    "for img in os.listdir(path):\n",
    "    try:\n",
    "        resize(path+'/'+img)\n",
    "    except:\n",
    "        print(img)"
   ]
  },
  {
   "cell_type": "code",
   "execution_count": null,
   "metadata": {
    "collapsed": true
   },
   "outputs": [],
   "source": []
  }
 ],
 "metadata": {
  "kernelspec": {
   "display_name": "Python 3",
   "language": "python",
   "name": "python3"
  },
  "language_info": {
   "codemirror_mode": {
    "name": "ipython",
    "version": 3
   },
   "file_extension": ".py",
   "mimetype": "text/x-python",
   "name": "python",
   "nbconvert_exporter": "python",
   "pygments_lexer": "ipython3",
   "version": "3.6.4"
  }
 },
 "nbformat": 4,
 "nbformat_minor": 2
}
