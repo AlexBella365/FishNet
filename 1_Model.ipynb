{
 "cells": [
  {
   "cell_type": "code",
   "execution_count": 1,
   "metadata": {
    "collapsed": true
   },
   "outputs": [],
   "source": [
    "import os\n",
    "import glob\n",
    "import random\n",
    "import numpy as np"
   ]
  },
  {
   "cell_type": "code",
   "execution_count": 2,
   "metadata": {
    "collapsed": true
   },
   "outputs": [],
   "source": [
    "ROOT = os.path.join(os.getcwd(),'img')\n",
    "img_folders = {\n",
    "    'clown':os.path.join(ROOT,'clown'),\n",
    "    'reef':os.path.join(ROOT,'reef')\n",
    "}"
   ]
  },
  {
   "cell_type": "code",
   "execution_count": 3,
   "metadata": {
    "collapsed": true
   },
   "outputs": [],
   "source": [
    "RESULT = {\n",
    "    0:'Clown Fish',\n",
    "    1:'No clown fish'\n",
    "}"
   ]
  },
  {
   "cell_type": "markdown",
   "metadata": {},
   "source": [
    "# All in one loading and preprocessing"
   ]
  },
  {
   "cell_type": "code",
   "execution_count": 4,
   "metadata": {
    "collapsed": true
   },
   "outputs": [],
   "source": [
    "import torch\n",
    "from torchvision import transforms\n",
    "import torchvision.datasets as datasets\n",
    "from torch.utils.data import DataLoader"
   ]
  },
  {
   "cell_type": "code",
   "execution_count": 5,
   "metadata": {
    "collapsed": true
   },
   "outputs": [],
   "source": [
    "def my_collate(batch):\n",
    "    data = [item[0] for item in batch]\n",
    "    target = [item[1] for item in batch]\n",
    "    target = torch.LongTensor(target)\n",
    "    return [data, target]\n",
    "\n",
    "\n",
    "train_transforms = transforms.Compose([transforms.Resize(size=64),\n",
    "                                       transforms.CenterCrop(size=64),\n",
    "                                       transforms.ToTensor(),\n",
    "                                       ])\n",
    "\n",
    "# change root to valid dir in your system, see ImageFolder documentation for more info\n",
    "dataset = datasets.ImageFolder(root=ROOT,\n",
    "                                    transform=train_transforms)"
   ]
  },
  {
   "cell_type": "code",
   "execution_count": 6,
   "metadata": {
    "collapsed": true
   },
   "outputs": [],
   "source": [
    "N = round(len(dataset)*0.7)\n",
    "indices = list(range(len(dataset)))\n",
    "train_ids = np.random.choice(indices,size=N,replace=False)\n",
    "test_ids = list(set(indices) - set(train_ids))"
   ]
  },
  {
   "cell_type": "code",
   "execution_count": 7,
   "metadata": {
    "collapsed": true
   },
   "outputs": [],
   "source": [
    "from torch.utils.data.sampler import SubsetRandomSampler\n",
    "train_sampler = SubsetRandomSampler(train_ids)\n",
    "test_sampler = SubsetRandomSampler(test_ids)"
   ]
  },
  {
   "cell_type": "code",
   "execution_count": 8,
   "metadata": {
    "collapsed": true
   },
   "outputs": [],
   "source": [
    "trainset = DataLoader(dataset=dataset,\n",
    "                      batch_size=8,\n",
    "                      #shuffle=True,\n",
    "                      sampler = train_sampler\n",
    "                      #collate_fn=my_collate # use custom collate function here\n",
    "                      )\n",
    "testset = DataLoader(dataset=dataset,\n",
    "                      batch_size=2,\n",
    "                        #shuffle=True,\n",
    "                      sampler = test_sampler\n",
    "                      )\n",
    "\n",
    "trainiter = iter(trainset)\n",
    "imgs, labels = trainiter.next()"
   ]
  },
  {
   "cell_type": "code",
   "execution_count": 9,
   "metadata": {},
   "outputs": [
    {
     "name": "stdout",
     "output_type": "stream",
     "text": [
      "No clown fish\n"
     ]
    },
    {
     "data": {
      "image/png": "[encoded data removed]",
      "text/plain": [
       "<PIL.Image.Image image mode=RGB size=64x64 at 0x1115500B8>"
      ]
     },
     "execution_count": 9,
     "metadata": {},
     "output_type": "execute_result"
    }
   ],
   "source": [
    "example = imgs[0]\n",
    "print(RESULT[labels[0].item()])\n",
    "transforms.ToPILImage()(example)"
   ]
  },
  {
   "cell_type": "markdown",
   "metadata": {},
   "source": [
    "# Training part"
   ]
  },
  {
   "cell_type": "markdown",
   "metadata": {},
   "source": [
    "# Define network"
   ]
  },
  {
   "cell_type": "code",
   "execution_count": 10,
   "metadata": {
    "collapsed": true
   },
   "outputs": [],
   "source": [
    "from torch.autograd import Variable\n",
    "import torch.nn as nn\n",
    "import torch.nn.functional as F"
   ]
  },
  {
   "cell_type": "code",
   "execution_count": 11,
   "metadata": {
    "collapsed": true
   },
   "outputs": [],
   "source": [
    "def abs_size(x):\n",
    "    S = x.size()\n",
    "    result = 1\n",
    "    for s in S[1:]:\n",
    "        result *= s\n",
    "    return result"
   ]
  },
  {
   "cell_type": "code",
   "execution_count": 12,
   "metadata": {},
   "outputs": [
    {
     "data": {
      "text/plain": [
       "FishNet(\n",
       "  (conv1): Conv2d(3, 6, kernel_size=(5, 5), stride=(1, 1))\n",
       "  (pool): MaxPool2d(kernel_size=2, stride=2, padding=0, dilation=1, ceil_mode=False)\n",
       "  (conv2): Conv2d(6, 16, kernel_size=(5, 5), stride=(1, 1))\n",
       "  (apool): AdaptiveAvgPool2d(output_size=8)\n",
       "  (fc1): Linear(in_features=1024, out_features=128, bias=True)\n",
       "  (fc2): Linear(in_features=128, out_features=32, bias=True)\n",
       "  (fc3): Linear(in_features=32, out_features=2, bias=True)\n",
       ")"
      ]
     },
     "execution_count": 12,
     "metadata": {},
     "output_type": "execute_result"
    }
   ],
   "source": [
    "class FishNet(nn.Module):\n",
    "    def __init__(self,number_classes=10):\n",
    "        super().__init__()\n",
    "        self.conv1 = nn.Conv2d(3, 6, 5)\n",
    "        self.pool = nn.MaxPool2d(2, 2)\n",
    "        self.conv2 = nn.Conv2d(6, 16, 5)\n",
    "        self.apool = nn.AdaptiveAvgPool2d(8)\n",
    "        self.fc1 = nn.Linear(8 * 8 * 16, 128)     # 8x8 square output, 16 layers\n",
    "        self.fc2 = nn.Linear(128, 32)\n",
    "        self.fc3 = nn.Linear(32, number_classes)\n",
    "\n",
    "    def forward(self, x):\n",
    "        x = self.pool(F.relu(self.conv1(x)))\n",
    "        x = self.pool(F.relu(self.conv2(x)))\n",
    "        x = self.apool(x)\n",
    "        x = x.view(-1, abs_size(x))\n",
    "        x = F.relu(self.fc1(x))\n",
    "        x = F.relu(self.fc2(x))\n",
    "        x = self.fc3(x)\n",
    "        return x\n",
    "\n",
    "\n",
    "mynet = FishNet(2)\n",
    "mynet"
   ]
  },
  {
   "cell_type": "markdown",
   "metadata": {},
   "source": [
    "## Optimizer"
   ]
  },
  {
   "cell_type": "code",
   "execution_count": 24,
   "metadata": {
    "collapsed": true
   },
   "outputs": [],
   "source": [
    "import torch.optim as optim\n",
    "\n",
    "criterion = nn.CrossEntropyLoss()\n",
    "optimizer = optim.SGD(mynet.parameters(), lr=0.01, momentum=0.8)"
   ]
  },
  {
   "cell_type": "code",
   "execution_count": 25,
   "metadata": {
    "collapsed": true
   },
   "outputs": [],
   "source": [
    "def adjust_learning_rate(optimizer, decay_factor=0.1):\n",
    "    for param_group in optimizer.param_groups:\n",
    "        param_group['lr'] *= decay_factor\n",
    "        \n",
    "    return optimizer"
   ]
  },
  {
   "cell_type": "code",
   "execution_count": 26,
   "metadata": {
    "collapsed": true
   },
   "outputs": [],
   "source": [
    "def is_stagnant(L,n=10,eps=1e-2):\n",
    "    M1 = np.mean(L[-2*n:-n])\n",
    "    M2 = np.mean(L[-n:])\n",
    "    D = (M1-M2)/(M1+M2)\n",
    "    return abs(D)<eps"
   ]
  },
  {
   "cell_type": "code",
   "execution_count": 16,
   "metadata": {
    "collapsed": true
   },
   "outputs": [],
   "source": [
    "# TO DO\n",
    "#optim.lr_scheduler."
   ]
  },
  {
   "cell_type": "markdown",
   "metadata": {
    "collapsed": true
   },
   "source": [
    "## Train step"
   ]
  },
  {
   "cell_type": "code",
   "execution_count": 36,
   "metadata": {
    "collapsed": true
   },
   "outputs": [],
   "source": [
    "LOSSES = []\n",
    "EPOCH_ELAPSED = 0"
   ]
  },
  {
   "cell_type": "code",
   "execution_count": null,
   "metadata": {},
   "outputs": [
    {
     "name": "stdout",
     "output_type": "stream",
     "text": [
      "\n",
      " ---------- Epoch 100 ----------\n",
      "     Batch 08 | Loss: 0.0217\n"
     ]
    }
   ],
   "source": [
    "print_batch = 8\n",
    "N_epoch = 50\n",
    "epochs_since_last_decay = 0\n",
    "decay = 5\n",
    "\n",
    "for epoch in range(1,N_epoch+1):  # loop over the dataset multiple times\n",
    "    \n",
    "    print('\\n','---------- Epoch {:03d} ----------'.format(EPOCH_ELAPSED))\n",
    "    running_loss = 0.0\n",
    "    \n",
    "    for i, data in enumerate(trainset, 1):\n",
    "        # get the inputs\n",
    "        inputs, labels = data\n",
    "\n",
    "        # wrap them in Variable\n",
    "        inputs, labels = Variable(inputs), Variable(labels)\n",
    "\n",
    "        # zero the parameter gradients\n",
    "        optimizer.zero_grad()\n",
    "\n",
    "        # forward + backward + optimize\n",
    "        outputs = mynet(inputs)\n",
    "        loss = criterion(outputs, labels)\n",
    "        loss.backward()\n",
    "        optimizer.step()\n",
    "\n",
    "        # print statistics\n",
    "        running_loss += loss.item() #loss.data[0] deprecated in newer versions of PyTorch\n",
    "        if i % print_batch == 0:    # print every few mini-batches\n",
    "            LOSSES.append(running_loss)\n",
    "            print('     Batch {:02d} | Loss: {:.4f}'.format(i ,running_loss / print_batch))\n",
    "            running_loss = 0.0\n",
    "            \n",
    "    # Decay LR when learning is stalling, for better convergence\n",
    "    if epochs_since_last_decay>5 and is_stagnant(LOSSES,3):\n",
    "        optimizer = adjust_learning_rate(optimizer,decay_factor=1.0/decay)\n",
    "        epochs_since_last_decay = 0\n",
    "        print('\\n','='*10,'LR decayed by',decay,'='*10,'\\n')\n",
    "    \n",
    "    # Some updating\n",
    "    epochs_since_last_decay += 1\n",
    "    EPOCH_ELAPSED += 1\n",
    "            \n",
    "print('Finished Training')"
   ]
  },
  {
   "cell_type": "code",
   "execution_count": null,
   "metadata": {},
   "outputs": [],
   "source": [
    "import matplotlib.pyplot as plt\n",
    "\n",
    "plt.plot(LOSSES)\n",
    "plt.grid()\n",
    "plt.show()"
   ]
  },
  {
   "cell_type": "markdown",
   "metadata": {},
   "source": [
    "## Save model"
   ]
  },
  {
   "cell_type": "code",
   "execution_count": 39,
   "metadata": {},
   "outputs": [
    {
     "data": {
      "text/plain": [
       "'20180711_14h10'"
      ]
     },
     "execution_count": 39,
     "metadata": {},
     "output_type": "execute_result"
    }
   ],
   "source": [
    "import datetime\n",
    "now = datetime.datetime.now().strftime('%Y%m%d_%Hh%M')\n",
    "now"
   ]
  },
  {
   "cell_type": "code",
   "execution_count": 40,
   "metadata": {},
   "outputs": [
    {
     "name": "stderr",
     "output_type": "stream",
     "text": [
      "/anaconda/lib/python3.6/site-packages/torch/serialization.py:193: UserWarning: Couldn't retrieve source code for container of type FishNet. It won't be checked for correctness upon loading.\n",
      "  \"type \" + obj.__name__ + \". It won't be checked \"\n"
     ]
    }
   ],
   "source": [
    "torch.save(mynet.state_dict,'FishNet_'+now+'.pth')\n",
    "#torch.save(mynet,'FishNet_'+now+'.pth')"
   ]
  },
  {
   "cell_type": "markdown",
   "metadata": {},
   "source": [
    "## Load model"
   ]
  },
  {
   "cell_type": "code",
   "execution_count": 32,
   "metadata": {},
   "outputs": [
    {
     "data": {
      "text/plain": [
       "['FishNet_20180705_21h41.pth',\n",
       " 'FishNet_20180705_22h31.pth',\n",
       " 'FishNet_20180706_07h25.pth',\n",
       " 'FishNet_20180706_07h36.pth',\n",
       " 'FishNet_20180709_08h16.pth',\n",
       " 'FishNet_20180711_14h03.pth']"
      ]
     },
     "execution_count": 32,
     "metadata": {},
     "output_type": "execute_result"
    }
   ],
   "source": [
    "models_path = glob.glob('*.pth')\n",
    "models_path.sort()\n",
    "models_path"
   ]
  },
  {
   "cell_type": "code",
   "execution_count": 33,
   "metadata": {},
   "outputs": [
    {
     "data": {
      "text/plain": [
       "OrderedDict([('conv1.weight',\n",
       "              tensor([[[[ 0.1827,  0.0666,  0.1475,  0.2291,  0.0944],\n",
       "                        [ 0.1144,  0.0808,  0.0883,  0.0557,  0.0688],\n",
       "                        [ 0.1770,  0.1955,  0.1426,  0.0739,  0.2031],\n",
       "                        [ 0.0724,  0.1473,  0.0520,  0.0570,  0.1219],\n",
       "                        [ 0.1525,  0.0946,  0.2011,  0.1029,  0.2107]],\n",
       "              \n",
       "                       [[ 0.0051,  0.0512, -0.0600, -0.0207,  0.0070],\n",
       "                        [-0.1841, -0.1185,  0.0079, -0.0337, -0.1430],\n",
       "                        [-0.1490, -0.0328,  0.0068,  0.0117, -0.1631],\n",
       "                        [ 0.0054,  0.0070, -0.1415, -0.0726, -0.0273],\n",
       "                        [-0.0170, -0.0167, -0.0994, -0.1464, -0.1355]],\n",
       "              \n",
       "                       [[-0.1686, -0.1674, -0.0122, -0.0721, -0.0591],\n",
       "                        [-0.1927, -0.2009, -0.0852, -0.1690, -0.2181],\n",
       "                        [-0.2399, -0.1581, -0.1297, -0.1127, -0.1652],\n",
       "                        [-0.2179, -0.0719, -0.1993, -0.2220, -0.1690],\n",
       "                        [-0.0662, -0.1978, -0.1275, -0.1971, -0.0401]]],\n",
       "              \n",
       "              \n",
       "                      [[[-0.1714, -0.1538, -0.1210, -0.0758, -0.1589],\n",
       "                        [-0.2582, -0.1932, -0.1585, -0.2341, -0.2339],\n",
       "                        [-0.1304, -0.2172, -0.2759, -0.2763, -0.0816],\n",
       "                        [-0.1718, -0.1060, -0.2706, -0.2584, -0.0315],\n",
       "                        [ 0.0050, -0.0248, -0.0565, -0.0188, -0.1503]],\n",
       "              \n",
       "                       [[-0.1006,  0.0463, -0.0469, -0.0265, -0.0565],\n",
       "                        [-0.0753, -0.1353, -0.0601, -0.0352, -0.0962],\n",
       "                        [ 0.0005,  0.0280,  0.0714,  0.0094,  0.0760],\n",
       "                        [ 0.0740, -0.1124,  0.0186,  0.0523, -0.0599],\n",
       "                        [-0.0109, -0.0276,  0.0089, -0.0366,  0.0810]],\n",
       "              \n",
       "                       [[ 0.1866,  0.2629,  0.1303,  0.2329,  0.1717],\n",
       "                        [ 0.1516,  0.1074,  0.1463,  0.1436,  0.1652],\n",
       "                        [ 0.1740,  0.1599,  0.1613,  0.1341,  0.1944],\n",
       "                        [ 0.1281,  0.0857,  0.1606,  0.2252,  0.1076],\n",
       "                        [ 0.1863,  0.1239,  0.1298,  0.1990,  0.0120]]],\n",
       "              \n",
       "              \n",
       "                      [[[ 0.0934,  0.1018,  0.0489,  0.1656,  0.0351],\n",
       "                        [ 0.1040,  0.1910,  0.1223,  0.2135,  0.1068],\n",
       "                        [ 0.2016,  0.1290,  0.1423,  0.2134,  0.1055],\n",
       "                        [ 0.1729,  0.0613,  0.2068,  0.1716,  0.0208],\n",
       "                        [ 0.0806,  0.1984,  0.1421,  0.1839,  0.0597]],\n",
       "              \n",
       "                       [[ 0.1197,  0.0826, -0.1224, -0.0098, -0.0700],\n",
       "                        [-0.1213,  0.0425, -0.0536, -0.0433, -0.0820],\n",
       "                        [-0.0483, -0.1165, -0.0773, -0.1040,  0.0382],\n",
       "                        [-0.1063, -0.1093, -0.0382,  0.0215,  0.1246],\n",
       "                        [-0.0303, -0.0904, -0.1101,  0.0294,  0.1152]],\n",
       "              \n",
       "                       [[-0.0344, -0.2109, -0.2711, -0.2441, -0.1686],\n",
       "                        [-0.1846, -0.2593, -0.1311, -0.2401, -0.0070],\n",
       "                        [-0.1632, -0.1375, -0.2957, -0.1177,  0.0488],\n",
       "                        [-0.0971, -0.2993, -0.1368, -0.1080,  0.1075],\n",
       "                        [-0.0195, -0.1514, -0.0268, -0.0190,  0.0901]]],\n",
       "              \n",
       "              \n",
       "                      [[[ 0.0716,  0.0552, -0.0649,  0.0582, -0.0095],\n",
       "                        [-0.0026,  0.0705, -0.0854,  0.0955, -0.0016],\n",
       "                        [ 0.0136,  0.0174,  0.0856, -0.1014,  0.0849],\n",
       "                        [ 0.0688,  0.0500,  0.0559, -0.0370,  0.0335],\n",
       "                        [-0.0921,  0.0107,  0.0781, -0.0062, -0.0862]],\n",
       "              \n",
       "                       [[-0.0905,  0.0288, -0.0785,  0.1221, -0.0024],\n",
       "                        [ 0.0948,  0.0699, -0.1275, -0.0096,  0.0287],\n",
       "                        [ 0.0372, -0.0320, -0.0237,  0.0696, -0.0611],\n",
       "                        [ 0.0740,  0.0271,  0.0202, -0.0015,  0.0140],\n",
       "                        [-0.0494, -0.1311,  0.0525,  0.0517, -0.1005]],\n",
       "              \n",
       "                       [[-0.0278,  0.0779,  0.0181,  0.1522,  0.0342],\n",
       "                        [-0.1049, -0.0620,  0.0438,  0.0076,  0.1358],\n",
       "                        [-0.0922, -0.0556, -0.0280,  0.0911,  0.1232],\n",
       "                        [-0.0106,  0.1051,  0.1134, -0.0160, -0.0385],\n",
       "                        [ 0.0613, -0.1228, -0.0037, -0.0885,  0.0761]]],\n",
       "              \n",
       "              \n",
       "                      [[[-0.1090, -0.0975,  0.0340, -0.0928,  0.0111],\n",
       "                        [-0.0887, -0.0613, -0.0709,  0.0860,  0.1060],\n",
       "                        [-0.0120, -0.0634,  0.0071,  0.0859, -0.0803],\n",
       "                        [-0.0524,  0.1093,  0.1006, -0.0206,  0.0003],\n",
       "                        [-0.0949,  0.0140,  0.0844, -0.0635, -0.1073]],\n",
       "              \n",
       "                       [[-0.0528, -0.0315, -0.0328,  0.0952, -0.1092],\n",
       "                        [ 0.1041,  0.0605, -0.0946,  0.0881, -0.0947],\n",
       "                        [-0.0273, -0.0771, -0.0155, -0.0349, -0.0541],\n",
       "                        [-0.0264, -0.0682,  0.0857,  0.0488, -0.0032],\n",
       "                        [ 0.0217, -0.0002,  0.0854, -0.0867,  0.0320]],\n",
       "              \n",
       "                       [[ 0.1164, -0.0116,  0.0968, -0.0130,  0.0548],\n",
       "                        [-0.0518,  0.0068, -0.0038,  0.0133, -0.0789],\n",
       "                        [-0.0795, -0.0104,  0.0593, -0.0705, -0.0520],\n",
       "                        [ 0.0095, -0.0649, -0.0425,  0.0451, -0.0058],\n",
       "                        [-0.0738,  0.0629,  0.0399,  0.1108,  0.0177]]],\n",
       "              \n",
       "              \n",
       "                      [[[ 0.0876, -0.0485,  0.0830,  0.0017,  0.0578],\n",
       "                        [-0.0037,  0.0710,  0.1203,  0.0816,  0.0849],\n",
       "                        [ 0.1079,  0.0802,  0.0501, -0.0223,  0.0895],\n",
       "                        [ 0.1401, -0.0736,  0.1333,  0.0857, -0.0271],\n",
       "                        [ 0.0413, -0.0420,  0.0347,  0.1552,  0.0441]],\n",
       "              \n",
       "                       [[ 0.1321,  0.0962,  0.0422,  0.0394, -0.0169],\n",
       "                        [-0.0345,  0.0089, -0.0110, -0.0767, -0.0031],\n",
       "                        [-0.0100, -0.0446,  0.0878,  0.0532, -0.0341],\n",
       "                        [ 0.1181, -0.0868, -0.0952, -0.1007, -0.1023],\n",
       "                        [ 0.0486,  0.0047,  0.0599, -0.0863,  0.0185]],\n",
       "              \n",
       "                       [[ 0.1007,  0.1801,  0.1799,  0.0866, -0.0206],\n",
       "                        [ 0.1776,  0.1914,  0.1559,  0.0817,  0.0482],\n",
       "                        [ 0.0381,  0.1458,  0.1429,  0.1457, -0.0306],\n",
       "                        [ 0.0051,  0.0319, -0.0020,  0.0144,  0.0033],\n",
       "                        [ 0.0656,  0.0347,  0.0942,  0.0429,  0.0758]]]])),\n",
       "             ('conv1.bias',\n",
       "              tensor([-0.0216, -0.0588,  0.3790, -0.0394, -0.0581, -0.2188])),\n",
       "             ('conv2.weight',\n",
       "              tensor([[[[ 0.0308, -0.0628, -0.0732,  0.0323,  0.0101],\n",
       "                        [ 0.0307, -0.0805, -0.0651, -0.0466, -0.1085],\n",
       "                        [-0.0128,  0.0287, -0.0008,  0.0447, -0.0744],\n",
       "                        [ 0.0343, -0.0832,  0.0022, -0.0373, -0.0810],\n",
       "                        [-0.0181,  0.0370, -0.0358, -0.0338,  0.0279]],\n",
       "              \n",
       "                       [[ 0.2285,  0.1422,  0.1763,  0.2240,  0.1146],\n",
       "                        [ 0.1439,  0.1618,  0.1865,  0.0510,  0.0872],\n",
       "                        [ 0.1262,  0.0213,  0.0149,  0.1188,  0.0661],\n",
       "                        [ 0.1265,  0.1256,  0.0593,  0.0694,  0.0481],\n",
       "                        [ 0.0767, -0.0468,  0.0117, -0.0450,  0.0162]],\n",
       "              \n",
       "                       [[-0.1264, -0.0404, -0.0061, -0.0673, -0.1040],\n",
       "                        [-0.0326, -0.0560, -0.0734, -0.0758, -0.0934],\n",
       "                        [-0.0917, -0.0072,  0.0399, -0.0073, -0.0431],\n",
       "                        [-0.0072, -0.0900, -0.0384, -0.0386,  0.0187],\n",
       "                        [-0.0565, -0.0986, -0.0340, -0.0712,  0.0310]],\n",
       "              \n",
       "                       [[-0.0278, -0.0172,  0.0296,  0.0409, -0.0317],\n",
       "                        [-0.0535, -0.0479,  0.0060, -0.0322,  0.0375],\n",
       "                        [-0.0583,  0.0616,  0.0190, -0.0386, -0.0026],\n",
       "                        [ 0.0348, -0.0635,  0.0075,  0.0462,  0.0145],\n",
       "                        [-0.0435,  0.0750,  0.0854,  0.0499, -0.0421]],\n",
       "              \n",
       "                       [[-0.0756, -0.0796,  0.0035, -0.0357, -0.0637],\n",
       "                        [ 0.0652, -0.0583, -0.0016,  0.0105,  0.0733],\n",
       "                        [-0.0521, -0.0796, -0.0674, -0.0274, -0.0489],\n",
       "                        [ 0.0601, -0.0294, -0.0662, -0.0000,  0.0631],\n",
       "                        [ 0.0442,  0.0798, -0.0494,  0.0342, -0.0680]],\n",
       "              \n",
       "                       [[-0.0242,  0.0205,  0.0273, -0.0318, -0.0664],\n",
       "                        [-0.0266, -0.0442, -0.0532,  0.0336,  0.0378],\n",
       "                        [ 0.0757,  0.0634,  0.0320, -0.0883, -0.0455],\n",
       "                        [-0.0068,  0.0849,  0.0597, -0.0341,  0.0835],\n",
       "                        [ 0.0715,  0.0099, -0.0421,  0.0736,  0.0248]]],\n",
       "              \n",
       "              \n",
       "                      [[[-0.0674, -0.0978, -0.0798, -0.0643, -0.0143],\n",
       "                        [-0.0031, -0.0508,  0.0409,  0.0654,  0.0492],\n",
       "                        [-0.0745, -0.0130, -0.0488,  0.0416,  0.0989],\n",
       "                        [-0.0122, -0.0572,  0.0552,  0.0895, -0.0298],\n",
       "                        [-0.0882, -0.0658,  0.0159,  0.0998,  0.0553]],\n",
       "              \n",
       "                       [[ 0.0625,  0.0819, -0.0155, -0.0756, -0.0160],\n",
       "                        [ 0.0609,  0.0329, -0.0542, -0.0571, -0.0729],\n",
       "                        [ 0.0988,  0.0919, -0.0783, -0.0103, -0.0624],\n",
       "                        [ 0.0869,  0.0088, -0.0585, -0.0223, -0.0638],\n",
       "                        [ 0.0651, -0.0666,  0.0155,  0.0414,  0.0612]],\n",
       "              \n",
       "                       [[ 0.0366, -0.0097,  0.0385,  0.0330,  0.0460],\n",
       "                        [-0.0810, -0.0643, -0.0876,  0.0784,  0.0375],\n",
       "                        [-0.0287, -0.1082, -0.0075,  0.0043,  0.0404],\n",
       "                        [-0.1035, -0.0569,  0.0961,  0.0439,  0.0295],\n",
       "                        [ 0.0222,  0.0203,  0.0716,  0.0315,  0.0652]],\n",
       "              \n",
       "                       [[-0.0597,  0.0392,  0.0709, -0.0192,  0.0344],\n",
       "                        [ 0.0110,  0.0491,  0.0284,  0.0013,  0.0037],\n",
       "                        [ 0.0599, -0.0722, -0.0097, -0.0192, -0.0598],\n",
       "                        [ 0.0518, -0.0156, -0.0494, -0.0542,  0.0329],\n",
       "                        [-0.0789, -0.0251, -0.0788,  0.0414,  0.0489]],\n",
       "              \n",
       "                       [[-0.0743,  0.0730, -0.0700, -0.0493,  0.0350],\n",
       "                        [ 0.0439,  0.0660,  0.0448,  0.0609,  0.0060],\n",
       "                        [-0.0669,  0.0472, -0.0156, -0.0808, -0.0274],\n",
       "                        [-0.0601, -0.0695,  0.0554, -0.0339, -0.0400],\n",
       "                        [ 0.0312, -0.0298, -0.0753,  0.0603,  0.0484]],\n",
       "              \n",
       "                       [[ 0.0703,  0.0396,  0.0250, -0.0179, -0.0326],\n",
       "                        [-0.0491,  0.0053, -0.0538,  0.0396,  0.0416],\n",
       "                        [ 0.0031,  0.0836, -0.0140,  0.0033,  0.0148],\n",
       "                        [ 0.0337, -0.0267,  0.0357, -0.0619,  0.0163],\n",
       "                        [ 0.0856,  0.0172, -0.0795, -0.0688, -0.0501]]],\n",
       "              \n",
       "              \n",
       "                      [[[ 0.0512, -0.0584,  0.0695,  0.0121, -0.0378],\n",
       "                        [-0.0347, -0.0010,  0.0465, -0.0760, -0.0816],\n",
       "                        [ 0.0432, -0.0079,  0.0117, -0.0636, -0.0225],\n",
       "                        [ 0.0119, -0.0550, -0.0605, -0.0217, -0.0776],\n",
       "                        [-0.0211,  0.0026,  0.0213, -0.0705, -0.0081]],\n",
       "              \n",
       "                       [[-0.0456,  0.0307, -0.0806, -0.0410, -0.0777],\n",
       "                        [ 0.0065, -0.0722, -0.0287,  0.0577, -0.0292],\n",
       "                        [-0.0536,  0.0015, -0.0404, -0.0255, -0.0535],\n",
       "                        [-0.0631, -0.0178, -0.0495, -0.0183, -0.0495],\n",
       "                        [-0.0187,  0.0329,  0.0051,  0.0560, -0.0643]],\n",
       "              \n",
       "                       [[ 0.0213,  0.0313,  0.0002, -0.0673,  0.0077],\n",
       "                        [ 0.0501,  0.0291, -0.0590, -0.0507,  0.0705],\n",
       "                        [ 0.0201, -0.0079, -0.0817,  0.0466, -0.0493],\n",
       "                        [ 0.0321,  0.0671,  0.0468,  0.0056, -0.0415],\n",
       "                        [ 0.0178,  0.0220, -0.0211, -0.0239, -0.0327]],\n",
       "              \n",
       "                       [[-0.0165,  0.0127, -0.0796, -0.0572, -0.0788],\n",
       "                        [ 0.0788,  0.0531,  0.0322,  0.0283,  0.0672],\n",
       "                        [ 0.0176, -0.0193, -0.0174, -0.0243,  0.0207],\n",
       "                        [-0.0079, -0.0008, -0.0726,  0.0038, -0.0336],\n",
       "                        [ 0.0683,  0.0640, -0.0675, -0.0126,  0.0041]],\n",
       "              \n",
       "                       [[-0.0208,  0.0759,  0.0215,  0.0317, -0.0129],\n",
       "                        [ 0.0283,  0.0009,  0.0031,  0.0624,  0.0116],\n",
       "                        [ 0.0062, -0.0380, -0.0499, -0.0119, -0.0721],\n",
       "                        [ 0.0712,  0.0521,  0.0246,  0.0625,  0.0510],\n",
       "                        [-0.0502,  0.0194, -0.0190, -0.0748,  0.0221]],\n",
       "              \n",
       "                       [[-0.0576,  0.0167, -0.0734, -0.0419, -0.0728],\n",
       "                        [ 0.0521,  0.0585,  0.0280,  0.0774,  0.0157],\n",
       "                        [-0.0672, -0.0730,  0.0011, -0.0030,  0.0522],\n",
       "                        [-0.0074, -0.0582,  0.0239,  0.0705, -0.0741],\n",
       "                        [ 0.0200,  0.0663, -0.0509, -0.0447, -0.0417]]],\n",
       "              \n",
       "              \n",
       "                      ...,\n",
       "              \n",
       "              \n",
       "                      [[[-0.0140,  0.0066,  0.0640, -0.0458,  0.0301],\n",
       "                        [ 0.0379, -0.0534, -0.0778,  0.0163, -0.0081],\n",
       "                        [-0.0237,  0.0186, -0.0485, -0.0571, -0.0101],\n",
       "                        [-0.0284,  0.0364, -0.0042, -0.0591,  0.0620],\n",
       "                        [-0.0071, -0.0074, -0.0151,  0.0501, -0.0233]],\n",
       "              \n",
       "                       [[ 0.0280,  0.0474,  0.1183,  0.0641,  0.0860],\n",
       "                        [ 0.1092,  0.0870,  0.0700,  0.0882,  0.0671],\n",
       "                        [ 0.0768,  0.0394,  0.0432,  0.0184,  0.0125],\n",
       "                        [-0.0082, -0.0246,  0.0257,  0.0652, -0.0326],\n",
       "                        [-0.0486, -0.0484,  0.0316,  0.0967,  0.0971]],\n",
       "              \n",
       "                       [[-0.0032,  0.0657,  0.0006,  0.0743, -0.0242],\n",
       "                        [-0.0130,  0.0407, -0.0506,  0.0356,  0.0071],\n",
       "                        [ 0.0035, -0.0057, -0.0371, -0.0230, -0.0161],\n",
       "                        [ 0.0176,  0.0144,  0.0811,  0.0813, -0.0344],\n",
       "                        [ 0.0304, -0.0247, -0.0600, -0.0352,  0.0839]],\n",
       "              \n",
       "                       [[-0.0702, -0.0724,  0.0320,  0.0106, -0.0033],\n",
       "                        [ 0.0627, -0.0543, -0.0822, -0.0390, -0.0365],\n",
       "                        [ 0.0198, -0.0188, -0.0803,  0.0188, -0.0133],\n",
       "                        [-0.0281,  0.0622, -0.0462, -0.0125, -0.0419],\n",
       "                        [ 0.0584,  0.0021,  0.0352, -0.0060, -0.0821]],\n",
       "              \n",
       "                       [[ 0.0492, -0.0151,  0.0396, -0.0798, -0.0321],\n",
       "                        [-0.0793, -0.0723, -0.0698,  0.0384, -0.0054],\n",
       "                        [-0.0172, -0.0433,  0.0348,  0.0695,  0.0396],\n",
       "                        [-0.0366,  0.0012, -0.0112,  0.0602,  0.0458],\n",
       "                        [ 0.0264, -0.0078,  0.0026, -0.0359,  0.0028]],\n",
       "              \n",
       "                       [[ 0.0509, -0.0482, -0.0077,  0.0170,  0.0198],\n",
       "                        [-0.0089, -0.0027, -0.0906,  0.0543, -0.0865],\n",
       "                        [-0.0955, -0.0934, -0.0373,  0.0155, -0.0302],\n",
       "                        [-0.0041,  0.0055, -0.0595,  0.0189, -0.0246],\n",
       "                        [-0.0853, -0.0052, -0.0259, -0.0178, -0.0764]]],\n",
       "              \n",
       "              \n",
       "                      [[[-0.0619,  0.0161, -0.0187, -0.0759, -0.0470],\n",
       "                        [ 0.0375, -0.0653,  0.0285,  0.0179,  0.0464],\n",
       "                        [ 0.0463,  0.0366,  0.0024,  0.0572,  0.0326],\n",
       "                        [ 0.0377,  0.0998, -0.0625,  0.0375,  0.0165],\n",
       "                        [-0.0490,  0.0386,  0.0836, -0.0204,  0.1027]],\n",
       "              \n",
       "                       [[-0.0133, -0.0131,  0.0285, -0.0687,  0.0714],\n",
       "                        [-0.0577, -0.0475, -0.0311, -0.0992, -0.0925],\n",
       "                        [ 0.0005,  0.0339, -0.0042, -0.0516,  0.0297],\n",
       "                        [-0.0909, -0.0350, -0.0586, -0.0753, -0.0675],\n",
       "                        [-0.0428,  0.0665, -0.0326, -0.0273,  0.0516]],\n",
       "              \n",
       "                       [[-0.0658, -0.0411, -0.0595, -0.0431, -0.0860],\n",
       "                        [-0.0140,  0.0030,  0.0625, -0.0261, -0.0954],\n",
       "                        [ 0.0675,  0.0758, -0.0315, -0.0668,  0.0634],\n",
       "                        [ 0.0474,  0.0166, -0.0275,  0.0889,  0.0578],\n",
       "                        [ 0.0226, -0.0448,  0.0467, -0.0429,  0.1058]],\n",
       "              \n",
       "                       [[-0.0708, -0.0375,  0.0761,  0.0246, -0.0147],\n",
       "                        [-0.0399,  0.0321, -0.0506,  0.0176,  0.0884],\n",
       "                        [ 0.0262, -0.0457, -0.0179, -0.0077,  0.0350],\n",
       "                        [-0.0485, -0.0220,  0.0841,  0.0306,  0.0818],\n",
       "                        [ 0.0382, -0.0229,  0.0864, -0.0620, -0.0539]],\n",
       "              \n",
       "                       [[ 0.0488, -0.0193, -0.0338, -0.0740, -0.0311],\n",
       "                        [-0.0543, -0.0032, -0.0641,  0.0124,  0.0708],\n",
       "                        [ 0.0816,  0.0542, -0.0479, -0.0364,  0.0111],\n",
       "                        [-0.0249,  0.0653, -0.0701, -0.0018, -0.0766],\n",
       "                        [-0.0496, -0.0752,  0.0368,  0.0251,  0.0183]],\n",
       "              \n",
       "                       [[-0.0103,  0.0720,  0.0656,  0.0516,  0.0250],\n",
       "                        [-0.0610, -0.0434, -0.0029,  0.0934,  0.0641],\n",
       "                        [ 0.0581,  0.0414, -0.0554,  0.0424,  0.0950],\n",
       "                        [ 0.0238,  0.0373,  0.0220,  0.0646,  0.0523],\n",
       "                        [-0.0221,  0.0560,  0.0483, -0.0474,  0.0611]]],\n",
       "              \n",
       "              \n",
       "                      [[[ 0.0398, -0.0560, -0.0487, -0.1133,  0.0127],\n",
       "                        [ 0.0027, -0.0284, -0.1098,  0.0088, -0.0039],\n",
       "                        [ 0.0559, -0.0864,  0.0410, -0.0632, -0.0056],\n",
       "                        [ 0.0876,  0.0433,  0.0471, -0.0975, -0.0304],\n",
       "                        [-0.0061,  0.0970,  0.0830, -0.0729,  0.0172]],\n",
       "              \n",
       "                       [[ 0.0960,  0.0114,  0.1212,  0.0475,  0.0277],\n",
       "                        [ 0.0577, -0.0422,  0.1026, -0.0235,  0.0303],\n",
       "                        [-0.0804,  0.0586, -0.0484,  0.0616,  0.0425],\n",
       "                        [-0.0367,  0.0415, -0.0359, -0.1044,  0.0177],\n",
       "                        [-0.1384, -0.1173, -0.0123, -0.0424, -0.0306]],\n",
       "              \n",
       "                       [[-0.0888, -0.0726, -0.1185, -0.0088, -0.1302],\n",
       "                        [-0.1037,  0.0037, -0.0040,  0.0026, -0.0202],\n",
       "                        [-0.0482,  0.0313,  0.0388, -0.1203,  0.0209],\n",
       "                        [ 0.0422,  0.0628, -0.0447, -0.0566, -0.0967],\n",
       "                        [ 0.0603,  0.0872, -0.0095,  0.0400, -0.0501]],\n",
       "              \n",
       "                       [[ 0.0327,  0.0191,  0.0235, -0.0832, -0.0970],\n",
       "                        [ 0.0247,  0.0576, -0.0133, -0.0005,  0.0110],\n",
       "                        [ 0.0655,  0.0246,  0.0093, -0.0562, -0.0642],\n",
       "                        [-0.0484,  0.0886,  0.0163,  0.0846, -0.0135],\n",
       "                        [ 0.0492,  0.0368, -0.0096,  0.0329,  0.0797]],\n",
       "              \n",
       "                       [[-0.0364,  0.0080,  0.0177, -0.0243,  0.0653],\n",
       "                        [-0.0732,  0.0057,  0.0421,  0.0664,  0.0195],\n",
       "                        [-0.0283, -0.0714, -0.0147, -0.0543,  0.0567],\n",
       "                        [ 0.0556,  0.0586,  0.0303,  0.0240, -0.0455],\n",
       "                        [ 0.0136,  0.0463, -0.0016,  0.0773,  0.0472]],\n",
       "              \n",
       "                       [[ 0.0013,  0.0341,  0.0479,  0.0514, -0.0155],\n",
       "                        [ 0.0977,  0.0690,  0.0592,  0.0237, -0.0386],\n",
       "                        [ 0.1278,  0.1268,  0.0534,  0.1096, -0.0247],\n",
       "                        [ 0.1319,  0.1189,  0.1201,  0.0764, -0.0184],\n",
       "                        [ 0.0634,  0.0796,  0.1251,  0.0020,  0.1174]]]])),\n",
       "             ('conv2.bias', tensor(1.00000e-02 *\n",
       "                     [ 1.2918, -1.2585, -3.8799,  2.7891, -6.4843, -8.1292, -2.4841,\n",
       "                       1.3448, -3.4055, -3.3052, -5.2191, -1.4692, -5.7857, -8.9859,\n",
       "                      -4.0093, -1.6340])),\n",
       "             ('fc1.weight',\n",
       "              tensor([[ 1.9693e-02, -2.5104e-03,  3.5926e-02,  ...,  2.3257e-03,\n",
       "                        1.4487e-02, -2.7230e-02],\n",
       "                      [ 1.1399e-02,  4.1457e-02, -1.0029e-05,  ...,  3.7992e-02,\n",
       "                        3.2913e-02,  1.1647e-02],\n",
       "                      [-2.3354e-02,  2.1788e-02,  2.6254e-02,  ..., -2.2817e-02,\n",
       "                       -8.0975e-03, -2.1985e-02],\n",
       "                      ...,\n",
       "                      [ 1.5424e-02,  1.5831e-02,  2.2425e-02,  ..., -1.9254e-02,\n",
       "                       -2.0479e-02, -2.0425e-02],\n",
       "                      [ 2.2819e-02,  9.2192e-03,  3.4117e-03,  ..., -2.5398e-02,\n",
       "                        4.1489e-03, -2.4427e-02],\n",
       "                      [ 7.7753e-03,  1.9788e-02,  1.1700e-02,  ...,  2.1889e-02,\n",
       "                       -2.4062e-02, -2.1324e-02]])),\n",
       "             ('fc1.bias', tensor(1.00000e-02 *\n",
       "                     [ 1.7618, -1.2642, -1.5421,  2.3722,  0.3181, -1.2437, -0.7511,\n",
       "                       2.5363, -3.2465,  0.3655, -2.2046, -0.2999,  0.7357, -0.6087,\n",
       "                       3.4234,  2.7209, -1.3704,  1.9128,  0.4469, -2.7290,  1.1872,\n",
       "                      -0.5084, -2.8781, -1.9340, -0.1020,  1.7537, -3.0945, -1.1931,\n",
       "                       3.5724, -1.8289, -0.1393, -2.1090,  0.9907, -1.7520,  1.7882,\n",
       "                      -0.2667,  2.7241,  4.3337,  1.6317,  4.1604, -0.0072, -0.7559,\n",
       "                       3.0220, -0.0862, -2.7370, -2.9279, -0.6811,  2.3992, -0.2987,\n",
       "                       1.4231,  1.0284,  4.2250,  0.6415, -0.6144,  0.0148,  1.0555,\n",
       "                      -3.7415,  2.0922,  0.0419, -2.4936, -0.1462, -0.5602,  0.0502,\n",
       "                       1.6810, -1.3117, -1.7460, -1.2916,  0.5930,  4.3600, -0.8820,\n",
       "                       1.9731, -3.4589, -2.3175,  0.9077,  2.7476, -1.7415, -3.4934,\n",
       "                      -1.9000,  1.6607, -0.2452, -2.1056,  1.2016,  2.6966,  3.4718,\n",
       "                      -3.0293,  0.1869,  0.0661, -0.6995, -1.2647,  0.3838,  2.4016,\n",
       "                       1.0340, -0.4325,  1.3928,  2.4965,  0.8834,  1.8432, -3.0571,\n",
       "                       2.9672,  2.3291,  0.2315, -2.3585, -0.3322, -0.7356,  2.1857,\n",
       "                      -4.4340,  2.5482, -2.5986, -2.1727,  2.6364,  0.6882, -0.3901,\n",
       "                       0.8883,  2.6138, -1.4402,  1.7494, -0.3960, -2.3034,  3.8139,\n",
       "                      -3.1552,  3.0500,  0.0960, -3.1688, -0.0177, -0.6300,  1.1386,\n",
       "                      -2.8858,  0.3623])),\n",
       "             ('fc2.weight',\n",
       "              tensor([[-0.0524, -0.1064,  0.0567,  ...,  0.0218, -0.0644,  0.0009],\n",
       "                      [ 0.0727,  0.0420,  0.0638,  ...,  0.0812, -0.0169, -0.0841],\n",
       "                      [-0.0383, -0.0578, -0.0084,  ..., -0.0285,  0.0005,  0.0032],\n",
       "                      ...,\n",
       "                      [-0.0104,  0.0548,  0.0702,  ..., -0.0112, -0.0014,  0.0188],\n",
       "                      [ 0.0338, -0.0622, -0.0548,  ...,  0.0520,  0.0330, -0.0040],\n",
       "                      [-0.0725,  0.0553,  0.0377,  ...,  0.0167, -0.0006, -0.0381]])),\n",
       "             ('fc2.bias',\n",
       "              tensor([ 0.1002,  0.0908,  0.1427,  0.0997, -0.0742, -0.0311,  0.0034,\n",
       "                       0.1042,  0.0730,  0.0499,  0.0020,  0.0172,  0.0785, -0.0603,\n",
       "                       0.0859,  0.1334, -0.0809, -0.0868, -0.0061,  0.0633,  0.1302,\n",
       "                       0.1320,  0.0259, -0.0278, -0.0080, -0.0674,  0.0497, -0.0735,\n",
       "                       0.0189, -0.0819, -0.0081, -0.0036])),\n",
       "             ('fc3.weight',\n",
       "              tensor([[-0.2344,  0.2611, -0.1701, -0.1772, -0.0881, -0.0152,  0.4954,\n",
       "                       -0.2024, -0.1721,  0.3885, -0.1648,  0.1406,  0.1888, -0.0225,\n",
       "                        0.0464, -0.4301, -0.0406, -0.0896,  0.0726, -0.1322, -0.1990,\n",
       "                       -0.4259, -0.1712,  0.0297, -0.0035,  0.1902,  0.1463,  0.1099,\n",
       "                        0.1460,  0.0527, -0.0607,  0.0330],\n",
       "                      [ 0.3296, -0.1548,  0.2828,  0.2250,  0.0158,  0.0266, -0.3192,\n",
       "                        0.2775, -0.0040, -0.3464,  0.1321, -0.0675, -0.3384, -0.0284,\n",
       "                        0.1716,  0.4467,  0.1295, -0.0709,  0.1888,  0.0026,  0.1777,\n",
       "                        0.3623, -0.0847, -0.1266,  0.0214, -0.1336, -0.0627,  0.2029,\n",
       "                        0.0221,  0.1328,  0.0999, -0.0595]])),\n",
       "             ('fc3.bias', tensor(1.00000e-02 *\n",
       "                     [-1.4640,  4.9841]))])"
      ]
     },
     "execution_count": 33,
     "metadata": {},
     "output_type": "execute_result"
    }
   ],
   "source": [
    "#mynet.load_state_dict(torch.load(models_path[-1])())\n",
    "mynet.state_dict()"
   ]
  },
  {
   "cell_type": "markdown",
   "metadata": {
    "collapsed": true
   },
   "source": [
    "## Test step"
   ]
  },
  {
   "cell_type": "code",
   "execution_count": 44,
   "metadata": {},
   "outputs": [
    {
     "name": "stdout",
     "output_type": "stream",
     "text": [
      "65.57% accuracy on the test set\n"
     ]
    }
   ],
   "source": [
    "errors = 0\n",
    "mynet.eval()\n",
    "\n",
    "for i, data in enumerate(testset):\n",
    "    inputs, labels = data\n",
    "    inputs, labels = Variable(inputs), Variable(labels)\n",
    "    outputs = mynet(inputs)\n",
    "    _,y = torch.max(outputs,1)\n",
    "    errors += (y!=labels).sum().item()\n",
    "    \n",
    "accuracy = 1-errors/len(testset)\n",
    "print('{:0.2f}% accuracy on the test set'.format(100*accuracy))"
   ]
  },
  {
   "cell_type": "code",
   "execution_count": 45,
   "metadata": {},
   "outputs": [
    {
     "name": "stdout",
     "output_type": "stream",
     "text": [
      "Clown Fish\n"
     ]
    },
    {
     "data": {
      "image/png": "[encoded data removed]",
      "text/plain": [
       "<PIL.Image.Image image mode=RGB size=64x64 at 0x124549E80>"
      ]
     },
     "execution_count": 45,
     "metadata": {},
     "output_type": "execute_result"
    }
   ],
   "source": [
    "print(RESULT[y[0].item()])\n",
    "transforms.ToPILImage()(inputs[0].data)"
   ]
  },
  {
   "cell_type": "code",
   "execution_count": null,
   "metadata": {
    "collapsed": true
   },
   "outputs": [],
   "source": []
  },
  {
   "cell_type": "code",
   "execution_count": null,
   "metadata": {
    "collapsed": true
   },
   "outputs": [],
   "source": []
  },
  {
   "cell_type": "code",
   "execution_count": null,
   "metadata": {
    "collapsed": true
   },
   "outputs": [],
   "source": []
  }
 ],
 "metadata": {
  "kernelspec": {
   "display_name": "Python 3",
   "language": "python",
   "name": "python3"
  },
  "language_info": {
   "codemirror_mode": {
    "name": "ipython",
    "version": 3
   },
   "file_extension": ".py",
   "mimetype": "text/x-python",
   "name": "python",
   "nbconvert_exporter": "python",
   "pygments_lexer": "ipython3",
   "version": "3.6.4"
  }
 },
 "nbformat": 4,
 "nbformat_minor": 2
}
