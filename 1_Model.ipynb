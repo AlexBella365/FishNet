{
 "cells": [
  {
   "cell_type": "code",
   "execution_count": 1,
   "metadata": {
    "collapsed": true
   },
   "outputs": [],
   "source": [
    "import os\n",
    "import glob\n",
    "import random\n",
    "import numpy as np"
   ]
  },
  {
   "cell_type": "code",
   "execution_count": 2,
   "metadata": {
    "collapsed": true
   },
   "outputs": [],
   "source": [
    "ROOT = os.path.join(os.getcwd(),'img')\n",
    "img_folders = {\n",
    "    'clown':os.path.join(ROOT,'clown'),\n",
    "    'shark':os.path.join(ROOT,'shark'),\n",
    "    'reef':os.path.join(ROOT,'reef')\n",
    "}"
   ]
  },
  {
   "cell_type": "code",
   "execution_count": 3,
   "metadata": {},
   "outputs": [
    {
     "data": {
      "text/plain": [
       "{0: 'Clown Fish', 1: 'Other', 2: 'Reef shark'}"
      ]
     },
     "execution_count": 3,
     "metadata": {},
     "output_type": "execute_result"
    }
   ],
   "source": [
    "RESULT = {\n",
    "    0:'Clown Fish',\n",
    "    2:'Reef shark',\n",
    "    1:'Other'\n",
    "}\n",
    "RESULT"
   ]
  },
  {
   "cell_type": "markdown",
   "metadata": {},
   "source": [
    "# All in one loading and preprocessing"
   ]
  },
  {
   "cell_type": "code",
   "execution_count": 18,
   "metadata": {
    "collapsed": true
   },
   "outputs": [],
   "source": [
    "import torch\n",
    "from torchvision import transforms\n",
    "import torchvision.datasets as datasets\n",
    "from torch.utils.data import DataLoader"
   ]
  },
  {
   "cell_type": "code",
   "execution_count": 19,
   "metadata": {
    "collapsed": true
   },
   "outputs": [],
   "source": [
    "def my_collate(batch):\n",
    "    data = [item[0] for item in batch]\n",
    "    target = [item[1] for item in batch]\n",
    "    target = torch.LongTensor(target)\n",
    "    return [data, target]\n",
    "\n",
    "\n",
    "train_transforms = transforms.Compose([transforms.Resize(size=128),\n",
    "                                       transforms.CenterCrop(size=128),\n",
    "                                       transforms.ToTensor(),\n",
    "                                       ])\n",
    "\n",
    "# change root to valid dir in your system, see ImageFolder documentation for more info\n",
    "dataset = datasets.ImageFolder(root=ROOT,\n",
    "                                    transform=train_transforms)"
   ]
  },
  {
   "cell_type": "code",
   "execution_count": 20,
   "metadata": {
    "collapsed": true
   },
   "outputs": [],
   "source": [
    "N = round(len(dataset)*0.7)\n",
    "indices = list(range(len(dataset)))\n",
    "train_ids = list(np.random.choice(indices,size=N,replace=False))\n",
    "test_ids = list(set(indices) - set(train_ids))"
   ]
  },
  {
   "cell_type": "code",
   "execution_count": 21,
   "metadata": {
    "collapsed": true
   },
   "outputs": [],
   "source": [
    "from torch.utils.data.sampler import SubsetRandomSampler\n",
    "train_sampler = SubsetRandomSampler(train_ids)\n",
    "test_sampler = SubsetRandomSampler(test_ids)"
   ]
  },
  {
   "cell_type": "code",
   "execution_count": 22,
   "metadata": {
    "collapsed": true
   },
   "outputs": [],
   "source": [
    "trainset = DataLoader(dataset=dataset,\n",
    "                      batch_size=8,\n",
    "                      #shuffle=True,\n",
    "                      sampler = train_sampler\n",
    "                      #collate_fn=my_collate # use custom collate function here\n",
    "                      )\n",
    "testset = DataLoader(dataset=dataset,\n",
    "                      batch_size=4,\n",
    "                        #shuffle=True,\n",
    "                      sampler = test_sampler\n",
    "                      )\n",
    "\n",
    "trainiter = iter(trainset)\n",
    "imgs, labels = trainiter.next()"
   ]
  },
  {
   "cell_type": "code",
   "execution_count": 24,
   "metadata": {},
   "outputs": [
    {
     "name": "stdout",
     "output_type": "stream",
     "text": [
      "Reef shark\n"
     ]
    },
    {
     "data": {
      "image/png": "[encoded data removed]",
      "text/plain": [
       "<PIL.Image.Image image mode=RGB size=128x128 at 0x11E073E80>"
      ]
     },
     "execution_count": 24,
     "metadata": {},
     "output_type": "execute_result"
    }
   ],
   "source": [
    "example = imgs[0]\n",
    "print(RESULT[labels[0].item()])\n",
    "transforms.ToPILImage()(example)"
   ]
  },
  {
   "cell_type": "markdown",
   "metadata": {},
   "source": [
    "# Training part"
   ]
  },
  {
   "cell_type": "markdown",
   "metadata": {},
   "source": [
    "## Define network"
   ]
  },
  {
   "cell_type": "code",
   "execution_count": 9,
   "metadata": {
    "collapsed": true
   },
   "outputs": [],
   "source": [
    "from torch.autograd import Variable\n",
    "import torch.nn as nn\n",
    "import torch.nn.functional as F"
   ]
  },
  {
   "cell_type": "code",
   "execution_count": 10,
   "metadata": {
    "collapsed": true
   },
   "outputs": [],
   "source": [
    "def abs_size(x):\n",
    "    S = x.size()\n",
    "    result = 1\n",
    "    for s in S[1:]:\n",
    "        result *= s\n",
    "    return result"
   ]
  },
  {
   "cell_type": "code",
   "execution_count": 11,
   "metadata": {},
   "outputs": [
    {
     "data": {
      "text/plain": [
       "FishNet(\n",
       "  (conv1): Conv2d(3, 8, kernel_size=(3, 3), stride=(1, 1))\n",
       "  (pool): MaxPool2d(kernel_size=2, stride=2, padding=0, dilation=1, ceil_mode=False)\n",
       "  (conv2): Conv2d(8, 32, kernel_size=(3, 3), stride=(1, 1))\n",
       "  (apool): AdaptiveAvgPool2d(output_size=8)\n",
       "  (fc1): Linear(in_features=2048, out_features=128, bias=True)\n",
       "  (fc2): Linear(in_features=128, out_features=32, bias=True)\n",
       "  (fc3): Linear(in_features=32, out_features=3, bias=True)\n",
       ")"
      ]
     },
     "execution_count": 11,
     "metadata": {},
     "output_type": "execute_result"
    }
   ],
   "source": [
    "class FishNet(nn.Module):\n",
    "    def __init__(self,number_classes=10):\n",
    "        super().__init__()\n",
    "        self.conv1 = nn.Conv2d(3, 8, 3)       # channels in, channels out, kernel size\n",
    "        self.pool = nn.MaxPool2d(2, 2)\n",
    "        self.conv2 = nn.Conv2d(8, 32, 3)      # 32 channels out\n",
    "        self.apool = nn.AdaptiveAvgPool2d(8)\n",
    "        self.fc1 = nn.Linear(8 * 8 * 32, 128)     # 8x8 square output, 16 layers\n",
    "        self.fc2 = nn.Linear(128, 32)\n",
    "        self.fc3 = nn.Linear(32, number_classes)\n",
    "\n",
    "    def forward(self, x):\n",
    "        x = self.pool(F.relu(self.conv1(x)))\n",
    "        x = self.pool(F.relu(self.conv2(x)))\n",
    "        x = self.apool(x)\n",
    "        x = x.view(-1, abs_size(x))\n",
    "        x = F.relu(self.fc1(x))\n",
    "        x = F.relu(self.fc2(x))\n",
    "        x = self.fc3(x)\n",
    "        return x\n",
    "\n",
    "\n",
    "mynet = FishNet(3)\n",
    "mynet"
   ]
  },
  {
   "cell_type": "markdown",
   "metadata": {},
   "source": [
    "## Optimizer"
   ]
  },
  {
   "cell_type": "code",
   "execution_count": 13,
   "metadata": {
    "collapsed": true
   },
   "outputs": [],
   "source": [
    "import torch.optim as optim\n",
    "\n",
    "criterion = nn.CrossEntropyLoss()\n",
    "optimizer = optim.SGD(mynet.parameters(), lr=0.01, momentum=0.8)"
   ]
  },
  {
   "cell_type": "code",
   "execution_count": 14,
   "metadata": {
    "collapsed": true
   },
   "outputs": [],
   "source": [
    "def adjust_learning_rate(optimizer, decay_factor=0.1):\n",
    "    for param_group in optimizer.param_groups:\n",
    "        param_group['lr'] *= decay_factor\n",
    "        \n",
    "    return optimizer"
   ]
  },
  {
   "cell_type": "code",
   "execution_count": 15,
   "metadata": {
    "collapsed": true
   },
   "outputs": [],
   "source": [
    "def is_stagnant(L,n=10,eps=1e-2):\n",
    "    M1 = np.mean(L[-2*n:-n])\n",
    "    M2 = np.mean(L[-n:])\n",
    "    D = (M1-M2)/(M1+M2)\n",
    "    return abs(D)<eps"
   ]
  },
  {
   "cell_type": "code",
   "execution_count": 24,
   "metadata": {
    "collapsed": true
   },
   "outputs": [],
   "source": [
    "# TO DO\n",
    "#optim.lr_scheduler."
   ]
  },
  {
   "cell_type": "markdown",
   "metadata": {
    "collapsed": true
   },
   "source": [
    "## Train step"
   ]
  },
  {
   "cell_type": "code",
   "execution_count": 16,
   "metadata": {
    "collapsed": true
   },
   "outputs": [],
   "source": [
    "LOSSES = []\n",
    "EPOCH_ELAPSED = 0"
   ]
  },
  {
   "cell_type": "code",
   "execution_count": 17,
   "metadata": {
    "scrolled": false
   },
   "outputs": [
    {
     "name": "stdout",
     "output_type": "stream",
     "text": [
      "\n",
      " ---------- Epoch 000 ----------\n",
      "     Batch 06 | Loss: 1.0563\n",
      "     Batch 12 | Loss: 1.1090\n",
      "     Batch 18 | Loss: 1.0528\n",
      "     Batch 24 | Loss: 1.0605\n",
      "     Batch 30 | Loss: 1.0182\n",
      "     Batch 36 | Loss: 1.0413\n",
      "     Batch 42 | Loss: 1.0505\n",
      "\n",
      " ---------- Epoch 001 ----------\n",
      "     Batch 06 | Loss: 1.0028\n",
      "     Batch 12 | Loss: 1.0698\n",
      "     Batch 18 | Loss: 1.0281\n",
      "     Batch 24 | Loss: 0.9943\n",
      "     Batch 30 | Loss: 0.9671\n",
      "     Batch 36 | Loss: 1.0280\n",
      "     Batch 42 | Loss: 1.0297\n",
      "\n",
      " ---------- Epoch 002 ----------\n",
      "     Batch 06 | Loss: 0.9872\n",
      "     Batch 12 | Loss: 1.0175\n",
      "     Batch 18 | Loss: 0.9729\n",
      "     Batch 24 | Loss: 0.9861\n",
      "     Batch 30 | Loss: 1.0103\n",
      "     Batch 36 | Loss: 1.0370\n",
      "     Batch 42 | Loss: 0.9231\n",
      "\n",
      " ---------- Epoch 003 ----------\n",
      "     Batch 06 | Loss: 0.9830\n",
      "     Batch 12 | Loss: 0.9059\n",
      "     Batch 18 | Loss: 0.9223\n",
      "     Batch 24 | Loss: 0.8848\n",
      "     Batch 30 | Loss: 0.7910\n",
      "     Batch 36 | Loss: 0.8861\n",
      "     Batch 42 | Loss: 0.8697\n",
      "\n",
      " ---------- Epoch 004 ----------\n",
      "     Batch 06 | Loss: 0.7701\n",
      "     Batch 12 | Loss: 0.8814\n",
      "     Batch 18 | Loss: 0.7758\n",
      "     Batch 24 | Loss: 0.6477\n",
      "     Batch 30 | Loss: 0.8909\n",
      "     Batch 36 | Loss: 0.5987\n",
      "     Batch 42 | Loss: 0.6893\n",
      "\n",
      " ---------- Epoch 005 ----------\n",
      "     Batch 06 | Loss: 0.6881\n",
      "     Batch 12 | Loss: 0.6215\n",
      "     Batch 18 | Loss: 0.5827\n",
      "     Batch 24 | Loss: 0.6053\n",
      "     Batch 30 | Loss: 0.6984\n",
      "     Batch 36 | Loss: 0.5695\n",
      "     Batch 42 | Loss: 0.9529\n",
      "\n",
      " ---------- Epoch 006 ----------\n",
      "     Batch 06 | Loss: 0.7411\n",
      "     Batch 12 | Loss: 0.6614\n",
      "     Batch 18 | Loss: 0.5443\n",
      "     Batch 24 | Loss: 0.5830\n",
      "     Batch 30 | Loss: 0.6109\n",
      "     Batch 36 | Loss: 0.5827\n",
      "     Batch 42 | Loss: 0.7152\n",
      "\n",
      " ---------- Epoch 007 ----------\n",
      "     Batch 06 | Loss: 0.5928\n",
      "     Batch 12 | Loss: 0.6418\n",
      "     Batch 18 | Loss: 0.4471\n",
      "     Batch 24 | Loss: 0.6634\n",
      "     Batch 30 | Loss: 0.6496\n",
      "     Batch 36 | Loss: 0.5931\n",
      "     Batch 42 | Loss: 0.6701\n",
      "\n",
      " ---------- Epoch 008 ----------\n",
      "     Batch 06 | Loss: 0.6331\n",
      "     Batch 12 | Loss: 0.5386\n",
      "     Batch 18 | Loss: 0.5496\n",
      "     Batch 24 | Loss: 0.6730\n",
      "     Batch 30 | Loss: 0.6154\n",
      "     Batch 36 | Loss: 0.5796\n",
      "     Batch 42 | Loss: 0.5898\n",
      "\n",
      " ========== LR decayed by 4 ========== \n",
      "\n",
      "\n",
      " ---------- Epoch 009 ----------\n",
      "     Batch 06 | Loss: 0.5301\n",
      "     Batch 12 | Loss: 0.5407\n",
      "     Batch 18 | Loss: 0.3447\n",
      "     Batch 24 | Loss: 0.4162\n",
      "     Batch 30 | Loss: 0.6904\n",
      "     Batch 36 | Loss: 0.5904\n",
      "     Batch 42 | Loss: 0.5172\n",
      "\n",
      " ---------- Epoch 010 ----------\n",
      "     Batch 06 | Loss: 0.4935\n",
      "     Batch 12 | Loss: 0.5500\n",
      "     Batch 18 | Loss: 0.4254\n",
      "     Batch 24 | Loss: 0.5783\n",
      "     Batch 30 | Loss: 0.4786\n",
      "     Batch 36 | Loss: 0.4906\n",
      "     Batch 42 | Loss: 0.4942\n",
      "\n",
      " ---------- Epoch 011 ----------\n",
      "     Batch 06 | Loss: 0.6249\n",
      "     Batch 12 | Loss: 0.4457\n",
      "     Batch 18 | Loss: 0.4201\n",
      "     Batch 24 | Loss: 0.4478\n",
      "     Batch 30 | Loss: 0.4247\n",
      "     Batch 36 | Loss: 0.5517\n",
      "     Batch 42 | Loss: 0.5371\n",
      "\n",
      " ---------- Epoch 012 ----------\n",
      "     Batch 06 | Loss: 0.5122\n",
      "     Batch 12 | Loss: 0.4531\n",
      "     Batch 18 | Loss: 0.4212\n",
      "     Batch 24 | Loss: 0.5331\n",
      "     Batch 30 | Loss: 0.4605\n",
      "     Batch 36 | Loss: 0.4513\n",
      "     Batch 42 | Loss: 0.5226\n",
      "\n",
      " ---------- Epoch 013 ----------\n",
      "     Batch 06 | Loss: 0.5198\n",
      "     Batch 12 | Loss: 0.4744\n",
      "     Batch 18 | Loss: 0.3816\n",
      "     Batch 24 | Loss: 0.5560\n",
      "     Batch 30 | Loss: 0.3328\n",
      "     Batch 36 | Loss: 0.4419\n",
      "     Batch 42 | Loss: 0.6674\n",
      "\n",
      " ---------- Epoch 014 ----------\n",
      "     Batch 06 | Loss: 0.3102\n",
      "     Batch 12 | Loss: 0.5620\n",
      "     Batch 18 | Loss: 0.5768\n",
      "     Batch 24 | Loss: 0.4340\n",
      "     Batch 30 | Loss: 0.6442\n",
      "     Batch 36 | Loss: 0.3544\n",
      "     Batch 42 | Loss: 0.4168\n",
      "\n",
      " ---------- Epoch 015 ----------\n",
      "     Batch 06 | Loss: 0.3660\n",
      "     Batch 12 | Loss: 0.4154\n",
      "     Batch 18 | Loss: 0.3262\n",
      "     Batch 24 | Loss: 0.4406\n",
      "     Batch 30 | Loss: 0.5627\n",
      "     Batch 36 | Loss: 0.5695\n",
      "     Batch 42 | Loss: 0.5620\n",
      "\n",
      " ---------- Epoch 016 ----------\n",
      "     Batch 06 | Loss: 0.3153\n",
      "     Batch 12 | Loss: 0.4093\n",
      "     Batch 18 | Loss: 0.5534\n",
      "     Batch 24 | Loss: 0.5124\n",
      "     Batch 30 | Loss: 0.6932\n",
      "     Batch 36 | Loss: 0.4957\n",
      "     Batch 42 | Loss: 0.3767\n",
      "\n",
      " ---------- Epoch 017 ----------\n",
      "     Batch 06 | Loss: 0.5726\n",
      "     Batch 12 | Loss: 0.4530\n",
      "     Batch 18 | Loss: 0.2951\n",
      "     Batch 24 | Loss: 0.4990\n",
      "     Batch 30 | Loss: 0.4682\n",
      "     Batch 36 | Loss: 0.4643\n",
      "     Batch 42 | Loss: 0.3585\n",
      "\n",
      " ---------- Epoch 018 ----------\n",
      "     Batch 06 | Loss: 0.4293\n",
      "     Batch 12 | Loss: 0.5837\n",
      "     Batch 18 | Loss: 0.4645\n",
      "     Batch 24 | Loss: 0.4103\n",
      "     Batch 30 | Loss: 0.5057\n",
      "     Batch 36 | Loss: 0.3853\n",
      "     Batch 42 | Loss: 0.3664\n",
      "\n",
      " ---------- Epoch 019 ----------\n",
      "     Batch 06 | Loss: 0.4535\n",
      "     Batch 12 | Loss: 0.3785\n",
      "     Batch 18 | Loss: 0.3191\n",
      "     Batch 24 | Loss: 0.5686\n",
      "     Batch 30 | Loss: 0.4357\n",
      "     Batch 36 | Loss: 0.4739\n",
      "     Batch 42 | Loss: 0.4159\n",
      "Finished Training\n"
     ]
    }
   ],
   "source": [
    "print_batch = 6\n",
    "N_epoch = 20\n",
    "epochs_since_last_decay = 0\n",
    "decay = 4\n",
    "\n",
    "for epoch in range(1,N_epoch+1):  # loop over the dataset multiple times\n",
    "    \n",
    "    print('\\n','---------- Epoch {:03d} ----------'.format(EPOCH_ELAPSED))\n",
    "    running_loss = 0.0\n",
    "    \n",
    "    for i, data in enumerate(trainset, 1):\n",
    "        # get the inputs\n",
    "        inputs, labels = data\n",
    "\n",
    "        # wrap them in Variable\n",
    "        inputs, labels = Variable(inputs), Variable(labels)\n",
    "\n",
    "        # zero the parameter gradients\n",
    "        optimizer.zero_grad()\n",
    "\n",
    "        # forward + backward + optimize\n",
    "        outputs = mynet(inputs)\n",
    "        loss = criterion(outputs, labels)\n",
    "        loss.backward()\n",
    "        optimizer.step()\n",
    "\n",
    "        # print statistics\n",
    "        running_loss += loss.item() #loss.data[0] deprecated in newer versions of PyTorch\n",
    "        if i % print_batch == 0:    # print every few mini-batches\n",
    "            LOSSES.append(running_loss)\n",
    "            print('     Batch {:02d} | Loss: {:.4f}'.format(i ,running_loss / print_batch))\n",
    "            running_loss = 0.0\n",
    "            \n",
    "    # Decay LR when learning is stalling, for better convergence\n",
    "    if epochs_since_last_decay>5 and is_stagnant(LOSSES,3):\n",
    "        optimizer = adjust_learning_rate(optimizer,decay_factor=1.0/decay)\n",
    "        epochs_since_last_decay = 0\n",
    "        print('\\n','='*10,'LR decayed by',decay,'='*10,'\\n')\n",
    "    \n",
    "    # Some updating\n",
    "    epochs_since_last_decay += 1\n",
    "    EPOCH_ELAPSED += 1\n",
    "            \n",
    "print('Finished Training')"
   ]
  },
  {
   "cell_type": "code",
   "execution_count": 23,
   "metadata": {},
   "outputs": [
    {
     "data": {
      "text/plain": [
       "[0.0025]"
      ]
     },
     "execution_count": 23,
     "metadata": {},
     "output_type": "execute_result"
    }
   ],
   "source": [
    "[param_group['lr'] for param_group in optimizer.param_groups]        "
   ]
  },
  {
   "cell_type": "code",
   "execution_count": 4,
   "metadata": {},
   "outputs": [
    {
     "ename": "NameError",
     "evalue": "name 'LOSSES' is not defined",
     "output_type": "error",
     "traceback": [
      "\u001b[0;31m---------------------------------------------------------------------------\u001b[0m",
      "\u001b[0;31mNameError\u001b[0m                                 Traceback (most recent call last)",
      "\u001b[0;32m<ipython-input-4-129e35bcb24f>\u001b[0m in \u001b[0;36m<module>\u001b[0;34m()\u001b[0m\n\u001b[1;32m      1\u001b[0m \u001b[0;32mimport\u001b[0m \u001b[0mmatplotlib\u001b[0m\u001b[0;34m.\u001b[0m\u001b[0mpyplot\u001b[0m \u001b[0;32mas\u001b[0m \u001b[0mplt\u001b[0m\u001b[0;34m\u001b[0m\u001b[0;34m\u001b[0m\u001b[0m\n\u001b[1;32m      2\u001b[0m \u001b[0;34m\u001b[0m\u001b[0m\n\u001b[0;32m----> 3\u001b[0;31m \u001b[0mplt\u001b[0m\u001b[0;34m.\u001b[0m\u001b[0mplot\u001b[0m\u001b[0;34m(\u001b[0m\u001b[0mLOSSES\u001b[0m\u001b[0;34m)\u001b[0m\u001b[0;34m\u001b[0m\u001b[0;34m\u001b[0m\u001b[0m\n\u001b[0m\u001b[1;32m      4\u001b[0m \u001b[0mplt\u001b[0m\u001b[0;34m.\u001b[0m\u001b[0mgrid\u001b[0m\u001b[0;34m(\u001b[0m\u001b[0;34m)\u001b[0m\u001b[0;34m\u001b[0m\u001b[0;34m\u001b[0m\u001b[0m\n\u001b[1;32m      5\u001b[0m \u001b[0mplt\u001b[0m\u001b[0;34m.\u001b[0m\u001b[0mshow\u001b[0m\u001b[0;34m(\u001b[0m\u001b[0;34m)\u001b[0m\u001b[0;34m\u001b[0m\u001b[0;34m\u001b[0m\u001b[0m\n",
      "\u001b[0;31mNameError\u001b[0m: name 'LOSSES' is not defined"
     ]
    }
   ],
   "source": [
    "import matplotlib.pyplot as plt\n",
    "\n",
    "plt.plot(LOSSES)\n",
    "plt.grid()\n",
    "plt.show()"
   ]
  },
  {
   "cell_type": "markdown",
   "metadata": {},
   "source": [
    "## Save model"
   ]
  },
  {
   "cell_type": "code",
   "execution_count": 5,
   "metadata": {},
   "outputs": [
    {
     "data": {
      "text/plain": [
       "'20190324_13h08'"
      ]
     },
     "execution_count": 5,
     "metadata": {},
     "output_type": "execute_result"
    }
   ],
   "source": [
    "import datetime\n",
    "now = datetime.datetime.now().strftime('%Y%m%d_%Hh%M')\n",
    "now"
   ]
  },
  {
   "cell_type": "code",
   "execution_count": 6,
   "metadata": {},
   "outputs": [
    {
     "ename": "NameError",
     "evalue": "name 'torch' is not defined",
     "output_type": "error",
     "traceback": [
      "\u001b[0;31m---------------------------------------------------------------------------\u001b[0m",
      "\u001b[0;31mNameError\u001b[0m                                 Traceback (most recent call last)",
      "\u001b[0;32m<ipython-input-6-c840b143d989>\u001b[0m in \u001b[0;36m<module>\u001b[0;34m()\u001b[0m\n\u001b[0;32m----> 1\u001b[0;31m \u001b[0mtorch\u001b[0m\u001b[0;34m.\u001b[0m\u001b[0msave\u001b[0m\u001b[0;34m(\u001b[0m\u001b[0mmynet\u001b[0m\u001b[0;34m.\u001b[0m\u001b[0mstate_dict\u001b[0m\u001b[0;34m,\u001b[0m\u001b[0;34m'./models/'\u001b[0m\u001b[0;34m+\u001b[0m\u001b[0mnow\u001b[0m\u001b[0;34m+\u001b[0m\u001b[0;34m'.pytorch'\u001b[0m\u001b[0;34m)\u001b[0m\u001b[0;34m\u001b[0m\u001b[0;34m\u001b[0m\u001b[0m\n\u001b[0m\u001b[1;32m      2\u001b[0m \u001b[0;31m#torch.save(mynet,'FishNet_'+now+'.pth')\u001b[0m\u001b[0;34m\u001b[0m\u001b[0;34m\u001b[0m\u001b[0;34m\u001b[0m\u001b[0m\n",
      "\u001b[0;31mNameError\u001b[0m: name 'torch' is not defined"
     ]
    }
   ],
   "source": [
    "torch.save(mynet.state_dict,'./models/'+now+'.pytorch')\n",
    "#torch.save(mynet,'FishNet_'+now+'.pth')"
   ]
  },
  {
   "cell_type": "markdown",
   "metadata": {},
   "source": [
    "## Load model"
   ]
  },
  {
   "cell_type": "code",
   "execution_count": 15,
   "metadata": {},
   "outputs": [
    {
     "data": {
      "text/plain": [
       "['./models/20180713_12h50.pytorch',\n",
       " './models/20180713_15h24.pytorch',\n",
       " './models/20180713_18h53.pytorch',\n",
       " './models/20180713_19h33.pytorch',\n",
       " './models/20180716_20h21.pytorch',\n",
       " './models/20180717_13h39.pytorch',\n",
       " './models/20181003_10h51.pytorch',\n",
       " './models/20181003_13h34.pytorch']"
      ]
     },
     "execution_count": 15,
     "metadata": {},
     "output_type": "execute_result"
    }
   ],
   "source": [
    "models_path = glob.glob('./models/*.pytorch')\n",
    "models_path.sort()\n",
    "models_path"
   ]
  },
  {
   "cell_type": "code",
   "execution_count": 16,
   "metadata": {},
   "outputs": [
    {
     "data": {
      "text/plain": [
       "'./models/20181003_13h34.pytorch'"
      ]
     },
     "execution_count": 16,
     "metadata": {},
     "output_type": "execute_result"
    }
   ],
   "source": [
    "latest_model = models_path[-1]\n",
    "mynet.load_state_dict(torch.load(latest_model)())\n",
    "#mynet.state_dict()\n",
    "latest_model"
   ]
  },
  {
   "cell_type": "markdown",
   "metadata": {
    "collapsed": true
   },
   "source": [
    "## Test step"
   ]
  },
  {
   "cell_type": "code",
   "execution_count": 34,
   "metadata": {},
   "outputs": [
    {
     "name": "stdout",
     "output_type": "stream",
     "text": [
      "77.44% accuracy on the test set\n"
     ]
    }
   ],
   "source": [
    "errors = 0\n",
    "mynet.eval()\n",
    "\n",
    "for i, data in enumerate(testset):\n",
    "    inputs, labels = data\n",
    "    inputs, labels = Variable(inputs), Variable(labels)\n",
    "    outputs = mynet(inputs)\n",
    "    _,y = torch.max(outputs,1)\n",
    "    errors += (y!=labels).sum().item()\n",
    "    \n",
    "accuracy = 1-errors/len(test_ids)  # Previously len(testset which was wrong because it gave the number of batches)\n",
    "print('{:0.2f}% accuracy on the test set'.format(100*accuracy))"
   ]
  },
  {
   "cell_type": "code",
   "execution_count": 35,
   "metadata": {},
   "outputs": [
    {
     "name": "stdout",
     "output_type": "stream",
     "text": [
      "Reef shark\n"
     ]
    },
    {
     "data": {
      "image/png": "[encoded data removed]",
      "text/plain": [
       "<PIL.Image.Image image mode=RGB size=128x128 at 0x11E098898>"
      ]
     },
     "execution_count": 35,
     "metadata": {},
     "output_type": "execute_result"
    }
   ],
   "source": [
    "print(RESULT[y[0].item()])\n",
    "transforms.ToPILImage()(inputs[0].data)"
   ]
  },
  {
   "cell_type": "markdown",
   "metadata": {},
   "source": [
    "## Logging"
   ]
  },
  {
   "cell_type": "code",
   "execution_count": 35,
   "metadata": {
    "collapsed": true
   },
   "outputs": [],
   "source": [
    "with open('log.txt','a') as file: \n",
    "    file.write('{:0.2f}% accuracy for model {}\\n'.format(100*accuracy,now))"
   ]
  },
  {
   "cell_type": "code",
   "execution_count": null,
   "metadata": {
    "collapsed": true
   },
   "outputs": [],
   "source": []
  }
 ],
 "metadata": {
  "kernelspec": {
   "display_name": "Python 3",
   "language": "python",
   "name": "python3"
  },
  "language_info": {
   "codemirror_mode": {
    "name": "ipython",
    "version": 3
   },
   "file_extension": ".py",
   "mimetype": "text/x-python",
   "name": "python",
   "nbconvert_exporter": "python",
   "pygments_lexer": "ipython3",
   "version": "3.6.7"
  }
 },
 "nbformat": 4,
 "nbformat_minor": 2
}
